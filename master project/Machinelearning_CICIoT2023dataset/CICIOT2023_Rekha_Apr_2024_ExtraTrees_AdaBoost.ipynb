{
 "cells": [
  {
   "cell_type": "markdown",
   "id": "fb6a6862-9ab9-47c7-b5da-0bc772897129",
   "metadata": {},
   "source": [
    "# Machine Learning Modeling to detect IoT Attacks using CICIoT2023"
   ]
  },
  {
   "cell_type": "code",
   "execution_count": 1,
   "id": "40f7c50d-b0ae-4f19-9398-1435ba7a851d",
   "metadata": {},
   "outputs": [],
   "source": [
    "#Import libraries\n",
    "import pandas as pd\n",
    "import numpy as np\n",
    "import os\n",
    "from tqdm import tqdm\n",
    "import pickle\n",
    "from sklearn.linear_model import LogisticRegression\n",
    "from sklearn.linear_model import Perceptron\n",
    "from sklearn.tree import DecisionTreeClassifier\n",
    "from sklearn.ensemble import RandomForestClassifier\n",
    "from sklearn.ensemble import ExtraTreesClassifier\n",
    "from sklearn.ensemble import AdaBoostClassifier\n",
    "from sklearn.ensemble import BaggingClassifier\n",
    "from sklearn.ensemble import GradientBoostingClassifier\n",
    "#from sklearn.ensemble import StackingClassifier\n",
    "#from sklearn.ensemble import VotingClassifier\n",
    "#from sklearn.ensemble import HistGradientBoostingClassifier\n",
    "\n",
    "from sklearn.metrics import accuracy_score, recall_score, precision_score, f1_score, confusion_matrix, ConfusionMatrixDisplay\n",
    "from sklearn.preprocessing import MinMaxScaler, StandardScaler\n",
    "\n",
    "#import seaborn as sns\n",
    "import matplotlib.pyplot as plt\n",
    "\n",
    "import warnings\n",
    "warnings.filterwarnings('ignore')\n"
   ]
  },
  {
   "cell_type": "code",
   "execution_count": 2,
   "id": "5c40b5d2-727b-4f37-a480-9d46304eb541",
   "metadata": {},
   "outputs": [],
   "source": [
    "DATASET_FOLDER = 'C:/Users/Pc/Desktop/Masters Project/Dataset_CICIOT_2023/'"
   ]
  },
  {
   "cell_type": "markdown",
   "id": "3ec1f2b2-92b3-4622-895b-6ac5126f30b4",
   "metadata": {},
   "source": [
    "### Importing Dataset"
   ]
  },
  {
   "cell_type": "code",
   "execution_count": 3,
   "id": "6854f877-5524-46ba-b7ca-5d6040015f44",
   "metadata": {},
   "outputs": [],
   "source": [
    "df_CICIoT2023_sets = [k for k in os.listdir(DATASET_FOLDER) if k.endswith('.csv')]\n",
    "df_CICIoT2023_sets.sort()\n",
    "CICIoT2023_training_sets = df_CICIoT2023_sets[:int(len(df_CICIoT2023_sets)*.8)]\n",
    "CICIoT2023_test_sets = df_CICIoT2023_sets[int(len(df_CICIoT2023_sets)*.8):]"
   ]
  },
  {
   "cell_type": "code",
   "execution_count": 4,
   "id": "0433838d-ca57-4dd8-b41c-ad2ee3df61c4",
   "metadata": {},
   "outputs": [],
   "source": [
    "X_columns = [\n",
    "    'flow_duration', 'Header_Length', 'Protocol Type', 'Duration',\n",
    "       'Rate', 'Srate', 'Drate', 'fin_flag_number', 'syn_flag_number',\n",
    "       'rst_flag_number', 'psh_flag_number', 'ack_flag_number',\n",
    "       'ece_flag_number', 'cwr_flag_number', 'ack_count',\n",
    "       'syn_count', 'fin_count', 'urg_count', 'rst_count', \n",
    "    'HTTP', 'HTTPS', 'DNS', 'Telnet', 'SMTP', 'SSH', 'IRC', 'TCP',\n",
    "       'UDP', 'DHCP', 'ARP', 'ICMP', 'IPv', 'LLC', 'Tot sum', 'Min',\n",
    "       'Max', 'AVG', 'Std', 'Tot size', 'IAT', 'Number', 'Magnitue',\n",
    "       'Radius', 'Covariance', 'Variance', 'Weight', \n",
    "]\n",
    "y_column = 'label'"
   ]
  },
  {
   "cell_type": "markdown",
   "id": "249673a6-4826-4b80-b9aa-dfa4c3d549c4",
   "metadata": {},
   "source": [
    "### Scaling"
   ]
  },
  {
   "cell_type": "code",
   "execution_count": 5,
   "id": "cba40f31",
   "metadata": {},
   "outputs": [],
   "source": [
    "#from sklearn.preprocessing import MinMaxScaler, StandardScaler\n",
    "scaler = StandardScaler()"
   ]
  },
  {
   "cell_type": "code",
   "execution_count": 6,
   "id": "3682559f-9eb3-4d35-b1b2-d7d501ab85bc",
   "metadata": {},
   "outputs": [
    {
     "name": "stderr",
     "output_type": "stream",
     "text": [
      "100%|██████████| 135/135 [04:57<00:00,  2.20s/it]\n"
     ]
    }
   ],
   "source": [
    "for train_set in tqdm(CICIoT2023_training_sets):\n",
    "    scaler.fit(pd.read_csv(DATASET_FOLDER + train_set)[X_columns])"
   ]
  },
  {
   "cell_type": "markdown",
   "id": "a6ecac59-fc02-4198-9910-daf890da7a0a",
   "metadata": {},
   "source": [
    "## Categorisation: 2 (1+1) Classes"
   ]
  },
  {
   "cell_type": "code",
   "execution_count": 7,
   "id": "90ee4a99-d160-43bc-b2a0-06fa3f49e222",
   "metadata": {},
   "outputs": [],
   "source": [
    "dict_2category = {}\n",
    "dict_2category['BenignTraffic'] = 'Benign'\n",
    "\n",
    "dict_2category['DDoS-RSTFINFlood'] = 'Attack'\n",
    "dict_2category['DDoS-PSHACK_Flood'] = 'Attack'\n",
    "dict_2category['DDoS-SYN_Flood'] = 'Attack'\n",
    "dict_2category['DDoS-UDP_Flood'] = 'Attack'\n",
    "dict_2category['DDoS-TCP_Flood'] = 'Attack'\n",
    "dict_2category['DDoS-ICMP_Flood'] = 'Attack'\n",
    "dict_2category['DDoS-SynonymousIP_Flood'] = 'Attack'\n",
    "dict_2category['DDoS-ACK_Fragmentation'] = 'Attack'\n",
    "dict_2category['DDoS-UDP_Fragmentation'] = 'Attack'\n",
    "dict_2category['DDoS-ICMP_Fragmentation'] = 'Attack'\n",
    "dict_2category['DDoS-SlowLoris'] = 'Attack'\n",
    "dict_2category['DDoS-HTTP_Flood'] = 'Attack'\n",
    "\n",
    "dict_2category['DoS-UDP_Flood'] = 'Attack'\n",
    "dict_2category['DoS-SYN_Flood'] = 'Attack'\n",
    "dict_2category['DoS-TCP_Flood'] = 'Attack'\n",
    "dict_2category['DoS-HTTP_Flood'] = 'Attack'\n",
    "\n",
    "dict_2category['Mirai-greeth_flood'] = 'Attack'\n",
    "dict_2category['Mirai-greip_flood'] = 'Attack'\n",
    "dict_2category['Mirai-udpplain'] = 'Attack'\n",
    "\n",
    "dict_2category['Recon-PingSweep'] = 'Attack'\n",
    "dict_2category['Recon-OSScan'] = 'Attack'\n",
    "dict_2category['Recon-PortScan'] = 'Attack'\n",
    "dict_2category['VulnerabilityScan'] = 'Attack'\n",
    "dict_2category['Recon-HostDiscovery'] = 'Attack'\n",
    "\n",
    "dict_2category['DNS_Spoofing'] = 'Attack'\n",
    "dict_2category['MITM-ArpSpoofing'] = 'Attack'\n",
    "\n",
    "dict_2category['BrowserHijacking'] = 'Attack'\n",
    "dict_2category['Backdoor_Malware'] = 'Attack'\n",
    "dict_2category['XSS'] = 'Attack'\n",
    "dict_2category['Uploading_Attack'] = 'Attack'\n",
    "dict_2category['SqlInjection'] = 'Attack'\n",
    "dict_2category['CommandInjection'] = 'Attack'\n",
    "\n",
    "dict_2category['DictionaryBruteForce'] = 'Attack'"
   ]
  },
  {
   "cell_type": "code",
   "execution_count": 8,
   "id": "506eae35-a310-4a34-8bcf-c99282ed3225",
   "metadata": {},
   "outputs": [
    {
     "name": "stderr",
     "output_type": "stream",
     "text": [
      "100%|██████████| 135/135 [2:19:48<00:00, 62.14s/it] \n"
     ]
    }
   ],
   "source": [
    "#from sklearn.ensemble import RandomForestClassifier\n",
    "#from sklearn.linear_model import LogisticRegression\n",
    "\n",
    "#LogisticRegression(n_jobs=-1),Perceptron(n_jobs=-1),DecisionTreeClassifier(),RandomForestClassifier(n_jobs=-1),ExtraTreesClassifier(n_jobs=-1),AdaBoostClassifier(),BaggingClassifier(n_jobs=-1),GradientBoostingClassifier(),\n",
    "#\"LogisticRegression\",\"Perceptron\",\"DecisionTreeClassifier\",\"RandomForestClassifier\",\"ExtraTreesClassifier\",\"AdaBoostClassifier\",\"BaggingClassifier\",\"GradientBoostingClassifier\",\n",
    "\n",
    "LogisticRegressionCat2Model=LogisticRegression(n_jobs=-1)\n",
    "PerceptronCat2Model=Perceptron(n_jobs=-1)\n",
    "DecisionTreeClassifierCat2Model=DecisionTreeClassifier()\n",
    "RandomForestClassifierCat2Model=RandomForestClassifier(n_jobs=-1)\n",
    "ExtraTreesClassifierCat2Model=ExtraTreesClassifier(n_jobs=-1)\n",
    "AdaBoostClassifierCat2Model=AdaBoostClassifier()\n",
    "BaggingClassifierCat2Model=BaggingClassifier(n_jobs=-1)\n",
    "GradientBoostingClassifierCat2Model=GradientBoostingClassifier()\n",
    "\n",
    "\n",
    "ML_models = [\n",
    "        ExtraTreesClassifierCat2Model,AdaBoostClassifierCat2Model,\n",
    "]\n",
    "\n",
    "ML_names = [\n",
    "        \"ExtraTreesClassifierCat2Model\",\"AdaBoostClassifierCat2Model\",\n",
    "]\n",
    "\n",
    "\n",
    "for train_set in tqdm(CICIoT2023_training_sets):\n",
    "    #Load File after File\n",
    "    #print(DATASET_FOLDER + train_set)\n",
    "    CICIoT2023df = pd.read_csv(DATASET_FOLDER + train_set)\n",
    "    \n",
    "    #Data cleanup\n",
    "    #drop Rate column 'Rate' 'Srate' are same in the dataset. so dropping 'Rate'\n",
    "    CICIoT2023df.drop(columns=['Rate'])\n",
    "\n",
    "    #Removal of null values\n",
    "    CICIoT2023df=CICIoT2023df.dropna()\n",
    "\n",
    "    #Data scaling standard scalar\n",
    "    CICIoT2023df[X_columns] = scaler.transform(CICIoT2023df[X_columns])\n",
    "\n",
    "    #Column renaming to 2Category Attack or Benign(normal traffic)\n",
    "    new_y = [dict_2category[k] for k in CICIoT2023df[y_column]]\n",
    "    CICIoT2023df[y_column] = new_y\n",
    "    \n",
    "    for model in (ML_models):\n",
    "        model.fit(CICIoT2023df[X_columns], CICIoT2023df[y_column])\n",
    "    del CICIoT2023df\n",
    "\n",
    "for model in (ML_models):\n",
    "     #To save the model\n",
    "     filename = f\"{type(model).__name__}Cat2Model.sav\"  # Using the model's class name as filename\n",
    "     #print(filename)\n",
    "     with open(filename, 'wb') as file:\n",
    "         pickle.dump(model, file)"
   ]
  },
  {
   "cell_type": "code",
   "execution_count": 9,
   "id": "f2d55c67",
   "metadata": {},
   "outputs": [
    {
     "data": {
      "text/plain": [
       "\" # save the model to disk\\nfilename = 'finalized_model.sav'\\npickle.dump(model, open(filename, 'wb'))\\n \\n# some time later...\\n \\n# load the model from disk\\nloaded_model = pickle.load(open(filename, 'rb'))\\nresult = loaded_model.score(X_test, Y_test)\\nprint(result) \""
      ]
     },
     "execution_count": 9,
     "metadata": {},
     "output_type": "execute_result"
    }
   ],
   "source": [
    "\"\"\" # save the model to disk\n",
    "filename = 'finalized_model.sav'\n",
    "pickle.dump(model, open(filename, 'wb'))\n",
    " \n",
    "# some time later...\n",
    " \n",
    "# load the model from disk\n",
    "loaded_model = pickle.load(open(filename, 'rb'))\n",
    "result = loaded_model.score(X_test, Y_test)\n",
    "print(result) \"\"\""
   ]
  },
  {
   "cell_type": "code",
   "execution_count": 10,
   "id": "b07aa379-ec7e-4651-ab5a-6845ae249132",
   "metadata": {},
   "outputs": [
    {
     "name": "stderr",
     "output_type": "stream",
     "text": [
      "100%|██████████| 34/34 [04:42<00:00,  8.30s/it]\n"
     ]
    }
   ],
   "source": [
    "y_test = []\n",
    "preds = {i:[] for i in range(len(ML_models))}\n",
    "for test_set in tqdm(CICIoT2023_test_sets):\n",
    "    #Load File after File\n",
    "    CICIoT2023df_test = pd.read_csv(DATASET_FOLDER + test_set)\n",
    "    #Data cleanup\n",
    "    #drop Rate column 'Rate' 'Srate' are same in the dataset. so dropping 'Rate'\n",
    "    CICIoT2023df_test.drop(columns=['Rate'])\n",
    "\n",
    "    #Removal of null values\n",
    "    CICIoT2023df_test=CICIoT2023df_test.dropna()\n",
    "\n",
    "    #Data scaling standard scalar\n",
    "    CICIoT2023df_test[X_columns] = scaler.transform(CICIoT2023df_test[X_columns])\n",
    "\n",
    "    #Column renaming to 2Category Attack or Benign(normal traffic)    \n",
    "    new_y = [dict_2category[k] for k in CICIoT2023df_test[y_column]]\n",
    "    CICIoT2023df_test[y_column] = new_y\n",
    "    \n",
    "    y_test += list(CICIoT2023df_test[y_column].values)\n",
    "    \n",
    "    for i in range(len(ML_models)):\n",
    "        model = ML_models[i]\n",
    "        y_pred = list(model.predict(CICIoT2023df_test[X_columns]))\n",
    "        preds[i] = preds[i] + y_pred"
   ]
  },
  {
   "cell_type": "code",
   "execution_count": 11,
   "id": "caabf4fd-097d-4db2-847a-0dcd87144d6f",
   "metadata": {},
   "outputs": [
    {
     "name": "stdout",
     "output_type": "stream",
     "text": [
      "##### ExtraTreesClassifierCat2Model (2 classes) #####\n",
      "accuracy__score:  0.9961952236527072\n",
      "recall_score:  0.9496400879243644\n",
      "precision_score:  0.9698582727777033\n",
      "f1_score:  0.9595148688615407\n",
      "\n",
      "Predicted    Attack  Benign       All\n",
      "Actual                               \n",
      "Attack     10071556   25283  10096839\n",
      "Benign        14059  229263    243322\n",
      "All        10085615  254546  10340161\n",
      "\n",
      "ConfusionMatrixDisplay\n"
     ]
    },
    {
     "data": {
      "image/png": "[encoded data removed]",
      "text/plain": [
       "<Figure size 640x480 with 2 Axes>"
      ]
     },
     "metadata": {},
     "output_type": "display_data"
    },
    {
     "name": "stdout",
     "output_type": "stream",
     "text": [
      "\n",
      "\n",
      "##### AdaBoostClassifierCat2Model (2 classes) #####\n",
      "accuracy__score:  0.9958986131840694\n",
      "recall_score:  0.94730312012077\n",
      "precision_score:  0.9656314821702499\n",
      "f1_score:  0.9562733447486607\n",
      "\n",
      "Predicted    Attack  Benign       All\n",
      "Actual                               \n",
      "Attack     10070521   26318  10096839\n",
      "Benign        16091  227231    243322\n",
      "All        10086612  253549  10340161\n",
      "\n",
      "ConfusionMatrixDisplay\n"
     ]
    },
    {
     "data": {
      "image/png": "[encoded data removed]",
      "text/plain": [
       "<Figure size 640x480 with 2 Axes>"
      ]
     },
     "metadata": {},
     "output_type": "display_data"
    },
    {
     "name": "stdout",
     "output_type": "stream",
     "text": [
      "\n",
      "\n"
     ]
    }
   ],
   "source": [
    "for k,v in preds.items():\n",
    "    y_pred = v\n",
    "    print(f\"##### {ML_names[k]} (2 classes) #####\")\n",
    "    print('accuracy__score: ', accuracy_score(y_pred, y_test))\n",
    "    print('recall_score: ', recall_score(y_pred, y_test, average='macro'))\n",
    "    print('precision_score: ', precision_score(y_pred, y_test, average='macro'))\n",
    "    print('f1_score: ', f1_score(y_pred, y_test, average='macro'))\n",
    "    print()\n",
    "    print(pd.crosstab(y_test, y_pred, rownames=['Actual'], colnames=['Predicted'], margins=True,dropna=False))\n",
    "    print()\n",
    "    print('ConfusionMatrixDisplay')\n",
    "    #confusion_matrix = confusion_matrix(y_test, y_pred)\n",
    "    cm_display = ConfusionMatrixDisplay(confusion_matrix = confusion_matrix(y_test, y_pred), display_labels = [False, True])\n",
    "    cm_display.plot()\n",
    "    plt.show()\n",
    "    print()\n",
    "    print()"
   ]
  },
  {
   "cell_type": "markdown",
   "id": "3958c6fa-6d05-48fb-a046-55e5843e4711",
   "metadata": {},
   "source": [
    "## Categorisation: 8 (7+1) classes"
   ]
  },
  {
   "cell_type": "code",
   "execution_count": 12,
   "id": "9208c899-8b57-4a3a-a2e7-94b057123536",
   "metadata": {},
   "outputs": [],
   "source": [
    "dict_7category = {}\n",
    "dict_7category['BenignTraffic'] = 'Benign'\n",
    "\n",
    "dict_7category['DDoS-RSTFINFlood'] = 'DDoS'\n",
    "dict_7category['DDoS-PSHACK_Flood'] = 'DDoS'\n",
    "dict_7category['DDoS-SYN_Flood'] = 'DDoS'\n",
    "dict_7category['DDoS-UDP_Flood'] = 'DDoS'\n",
    "dict_7category['DDoS-TCP_Flood'] = 'DDoS'\n",
    "dict_7category['DDoS-ICMP_Flood'] = 'DDoS'\n",
    "dict_7category['DDoS-SynonymousIP_Flood'] = 'DDoS'\n",
    "dict_7category['DDoS-ACK_Fragmentation'] = 'DDoS'\n",
    "dict_7category['DDoS-UDP_Fragmentation'] = 'DDoS'\n",
    "dict_7category['DDoS-ICMP_Fragmentation'] = 'DDoS'\n",
    "dict_7category['DDoS-SlowLoris'] = 'DDoS'\n",
    "dict_7category['DDoS-HTTP_Flood'] = 'DDoS'\n",
    "\n",
    "dict_7category['DoS-UDP_Flood'] = 'DoS'\n",
    "dict_7category['DoS-SYN_Flood'] = 'DoS'\n",
    "dict_7category['DoS-TCP_Flood'] = 'DoS'\n",
    "dict_7category['DoS-HTTP_Flood'] = 'DoS'\n",
    "\n",
    "dict_7category['Mirai-greeth_flood'] = 'Mirai'\n",
    "dict_7category['Mirai-greip_flood'] = 'Mirai'\n",
    "dict_7category['Mirai-udpplain'] = 'Mirai'\n",
    "\n",
    "dict_7category['Recon-PingSweep'] = 'Recon'\n",
    "dict_7category['Recon-OSScan'] = 'Recon'\n",
    "dict_7category['Recon-PortScan'] = 'Recon'\n",
    "dict_7category['VulnerabilityScan'] = 'Recon'\n",
    "dict_7category['Recon-HostDiscovery'] = 'Recon'\n",
    "\n",
    "dict_7category['DNS_Spoofing'] = 'Spoofing'\n",
    "dict_7category['MITM-ArpSpoofing'] = 'Spoofing'\n",
    "\n",
    "dict_7category['BrowserHijacking'] = 'Web'\n",
    "dict_7category['Backdoor_Malware'] = 'Web'\n",
    "dict_7category['XSS'] = 'Web'\n",
    "dict_7category['Uploading_Attack'] = 'Web'\n",
    "dict_7category['SqlInjection'] = 'Web'\n",
    "dict_7category['CommandInjection'] = 'Web'\n",
    "\n",
    "dict_7category['DictionaryBruteForce'] = 'BruteForce'"
   ]
  },
  {
   "cell_type": "code",
   "execution_count": 13,
   "id": "4c1f697f-88d8-4ac4-8bc6-f1a8ac3794d5",
   "metadata": {},
   "outputs": [
    {
     "name": "stderr",
     "output_type": "stream",
     "text": [
      "100%|██████████| 135/135 [3:27:42<00:00, 92.31s/it]   \n"
     ]
    }
   ],
   "source": [
    "#LogisticRegression(n_jobs=-1),Perceptron(n_jobs=-1),DecisionTreeClassifier(),RandomForestClassifier(n_jobs=-1),ExtraTreesClassifier(n_jobs=-1),AdaBoostClassifier(),BaggingClassifier(n_jobs=-1),GradientBoostingClassifier(),\n",
    "#\"LogisticRegression\",\"Perceptron\",\"DecisionTreeClassifier\",\"RandomForestClassifier\",\"ExtraTreesClassifier\",\"AdaBoostClassifier\",\"BaggingClassifier\",\"GradientBoostingClassifier\",\n",
    "\n",
    "LogisticRegressionCat7Model=LogisticRegression(n_jobs=-1)\n",
    "PerceptronCat7Model=Perceptron(n_jobs=-1)\n",
    "DecisionTreeClassifierCat7Model=DecisionTreeClassifier()\n",
    "RandomForestClassifierCat7Model=RandomForestClassifier(n_jobs=-1)\n",
    "ExtraTreesClassifierCat7Model=ExtraTreesClassifier(n_jobs=-1)\n",
    "AdaBoostClassifierCat7Model=AdaBoostClassifier()\n",
    "BaggingClassifierCat7Model=BaggingClassifier(n_jobs=-1)\n",
    "GradientBoostingClassifierCat7Model=GradientBoostingClassifier()\n",
    "\n",
    "ML_models = [\n",
    "        ExtraTreesClassifierCat2Model,AdaBoostClassifierCat2Model,\n",
    "]\n",
    "\n",
    "ML_names = [\n",
    "        \"ExtraTreesClassifierCat2Model\",\"AdaBoostClassifierCat2Model\",\n",
    "]\n",
    "\n",
    "\n",
    "for train_set in tqdm(CICIoT2023_training_sets):\n",
    "    #Load File after File\n",
    "    CICIoT2023df = pd.read_csv(DATASET_FOLDER + train_set)\n",
    "\n",
    "    #Data cleanup\n",
    "    #drop Rate column 'Rate' 'Srate' are same in the dataset. so dropping 'Rate'\n",
    "    CICIoT2023df.drop(columns=['Rate'])\n",
    "    \n",
    "    #Removal of null values\n",
    "    CICIoT2023df=CICIoT2023df.dropna()\n",
    "\n",
    "    #Data scaling standard scalar\n",
    "    CICIoT2023df[X_columns] = scaler.transform(CICIoT2023df[X_columns])\n",
    "\n",
    "    #Column renaming to 7Category Attack or Benign(normal traffic)\n",
    "    new_y = [dict_7category[k] for k in CICIoT2023df[y_column]]\n",
    "    CICIoT2023df[y_column] = new_y\n",
    "    \n",
    "    for model in (ML_models):\n",
    "        model.fit(CICIoT2023df[X_columns], CICIoT2023df[y_column])\n",
    "    del CICIoT2023df\n",
    "\n",
    "for model in (ML_models):\n",
    "     #To save the model\n",
    "     filename = f\"{type(model).__name__}Cat7Model.sav\"  # Using the model's class name as filename\n",
    "     #print(filename)\n",
    "     with open(filename, 'wb') as file:\n",
    "         pickle.dump(model, file)"
   ]
  },
  {
   "cell_type": "code",
   "execution_count": 14,
   "id": "6b69c509-7666-45bd-9e11-52ecec0df8a8",
   "metadata": {},
   "outputs": [
    {
     "name": "stderr",
     "output_type": "stream",
     "text": [
      "100%|██████████| 34/34 [08:28<00:00, 14.97s/it]\n"
     ]
    }
   ],
   "source": [
    "y_test = []\n",
    "preds = {i:[] for i in range(len(ML_models))}\n",
    "for test_set in tqdm(CICIoT2023_test_sets):\n",
    "    #Load File after File\n",
    "    CICIoT2023df_test = pd.read_csv(DATASET_FOLDER + test_set)\n",
    "    #Data cleanup\n",
    "    #drop Rate column 'Rate' 'Srate' are same in the dataset. so dropping 'Rate'\n",
    "    CICIoT2023df_test.drop(columns=['Rate'])\n",
    "\n",
    "    #Removal of null values\n",
    "    CICIoT2023df_test=CICIoT2023df_test.dropna()\n",
    "\n",
    "    #Data scaling standard scalar\n",
    "    CICIoT2023df_test[X_columns] = scaler.transform(CICIoT2023df_test[X_columns])\n",
    "\n",
    "    #Column renaming to 7Category Attack or Benign(normal traffic)    \n",
    "    new_y = [dict_7category[k] for k in CICIoT2023df_test[y_column]]\n",
    "    CICIoT2023df_test[y_column] = new_y\n",
    "    \n",
    "    y_test += list(CICIoT2023df_test[y_column].values)\n",
    "    \n",
    "    for i in range(len(ML_models)):\n",
    "        model = ML_models[i]\n",
    "        y_pred = list(model.predict(CICIoT2023df_test[X_columns]))\n",
    "        preds[i] = preds[i] + y_pred"
   ]
  },
  {
   "cell_type": "code",
   "execution_count": 15,
   "id": "3e0a9702-63f5-4898-a8b0-2bf950fe881d",
   "metadata": {},
   "outputs": [
    {
     "name": "stdout",
     "output_type": "stream",
     "text": [
      "##### ExtraTreesClassifierCat2Model (8 classes) #####\n",
      "accuracy_score =  0.9923886098098472\n",
      "recall_score =  0.7296024679553397\n",
      "precision_score =  0.9208987299137277\n",
      "f1_score =  0.767418544724441\n",
      "\n",
      "Predicted   Benign  BruteForce     DDoS      DoS   Mirai  Recon  Spoofing  \\\n",
      "Actual                                                                      \n",
      "Benign      236405           8       12        1       0   1950      4902   \n",
      "BruteForce    1359         367        0        0       0    346       908   \n",
      "DDoS            59           0  7520016     5558     198    290        29   \n",
      "DoS              2           0     9084  1782750     110    206        13   \n",
      "Mirai            3           0     1427      140  582036     60        11   \n",
      "Recon        17181          15     1457       96      11  54720      5050   \n",
      "Spoofing     20662          13       15        9       7   3327     83647   \n",
      "Web           1871           0        0        1       0    746      1298   \n",
      "All         277542         403  7532011  1788555  582362  61645     95858   \n",
      "\n",
      "Predicted    Web       All  \n",
      "Actual                      \n",
      "Benign        44    243322  \n",
      "BruteForce     3      2983  \n",
      "DDoS           1   7526151  \n",
      "DoS            2   1792167  \n",
      "Mirai          0    583677  \n",
      "Recon        100     78630  \n",
      "Spoofing     118    107798  \n",
      "Web         1517      5433  \n",
      "All         1785  10340161  \n",
      "\n",
      "\n",
      "\n",
      "\n",
      "##### AdaBoostClassifierCat2Model (8 classes) #####\n",
      "accuracy_score =  0.7512138350650439\n",
      "recall_score =  0.4746164255580475\n",
      "precision_score =  0.4532276882036204\n",
      "f1_score =  0.4285773423415535\n",
      "\n",
      "Predicted   Benign  BruteForce     DDoS      DoS   Mirai  Recon  Spoofing  \\\n",
      "Actual                                                                      \n",
      "Benign      230416         698       14       25      15    245     11755   \n",
      "BruteForce    1422           7        0        0       0     25        48   \n",
      "DDoS            36           0  6296094  1157108   71723   1155        35   \n",
      "DoS             13           0  1107753   643381     122  40882        16   \n",
      "Mirai           44           0     5889     7869  569274    574        27   \n",
      "Recon        24823         148    24546     3509     364   8343      2144   \n",
      "Spoofing     35505         203        5        0      25    609     17962   \n",
      "Web           2430           8        1        4       0    619       176   \n",
      "All         294689        1064  7434302  1811896  641523  52452     32163   \n",
      "\n",
      "Predicted     Web       All  \n",
      "Actual                       \n",
      "Benign        154    243322  \n",
      "BruteForce   1481      2983  \n",
      "DDoS            0   7526151  \n",
      "DoS             0   1792167  \n",
      "Mirai           0    583677  \n",
      "Recon       14753     78630  \n",
      "Spoofing    53489    107798  \n",
      "Web          2195      5433  \n",
      "All         72072  10340161  \n",
      "\n",
      "\n",
      "\n",
      "\n"
     ]
    }
   ],
   "source": [
    "#from sklearn.metrics import accuracy_score, recall_score, precision_score, f1_score, confusion_matrix, ConfusionMatrixDisplay\n",
    "for k,v in preds.items():\n",
    "    y_pred = v\n",
    "    print(f\"##### {ML_names[k]} (8 classes) #####\")\n",
    "    print('accuracy_score = ', accuracy_score(y_test, y_pred))\n",
    "    print('recall_score = ', recall_score(y_test, y_pred, average='macro'))\n",
    "    print('precision_score = ', precision_score(y_test, y_pred, average='macro'))\n",
    "    print('f1_score = ', f1_score(y_test, y_pred, average='macro'))\n",
    "    print()\n",
    "    print(pd.crosstab(y_test, y_pred, rownames=['Actual'], colnames=['Predicted'], margins=True,dropna=False))\n",
    "    print()\n",
    "    print()\n",
    "    print()\n",
    "    print()\n",
    "    #ConfusionMatrixDisplay.from_estimator(model, X_test, y_test)\n",
    "    #plt.show()\n",
    "    #confusion_matrix = metrics.confusion_matrix(y_test, y_pred)\n",
    "    #cm_display = metrics.ConfusionMatrixDisplay(confusion_matrix = confusion_matrix, display_labels = [False, True])\n",
    "    #cm_display.plot()\n",
    "    #plt.show()  "
   ]
  },
  {
   "cell_type": "markdown",
   "id": "60abc3f0-e32d-40be-abc5-fd5972cf9856",
   "metadata": {},
   "source": [
    "## Categorisation: 34 (33+1) classes"
   ]
  },
  {
   "cell_type": "code",
   "execution_count": 16,
   "id": "d208cf46-8ba9-480f-ab99-d4ee81c083b4",
   "metadata": {
    "tags": []
   },
   "outputs": [
    {
     "name": "stderr",
     "output_type": "stream",
     "text": [
      "100%|██████████| 135/135 [5:14:35<00:00, 139.82s/it]  \n"
     ]
    }
   ],
   "source": [
    "#from sklearn.ensemble import RandomForestClassifier\n",
    "#from sklearn.linear_model import LogisticRegression\n",
    "\n",
    "#LogisticRegression(n_jobs=-1),Perceptron(n_jobs=-1),DecisionTreeClassifier(),RandomForestClassifier(n_jobs=-1),ExtraTreesClassifier(n_jobs=-1),AdaBoostClassifier(),BaggingClassifier(n_jobs=-1),GradientBoostingClassifier(),\n",
    "#\"LogisticRegression\",\"Perceptron\",\"DecisionTreeClassifier\",\"RandomForestClassifier\",\"ExtraTreesClassifier\",\"AdaBoostClassifier\",\"BaggingClassifier\",\"GradientBoostingClassifier\",\n",
    "\n",
    "LogisticRegressionCat33Model=LogisticRegression(n_jobs=-1)\n",
    "PerceptronCat33Model=Perceptron(n_jobs=-1)\n",
    "DecisionTreeClassifierCat33Model=DecisionTreeClassifier()\n",
    "RandomForestClassifierCat33Model=RandomForestClassifier(n_jobs=-1)\n",
    "ExtraTreesClassifierCat33Model=ExtraTreesClassifier(n_jobs=-1)\n",
    "AdaBoostClassifierCat33Model=AdaBoostClassifier()\n",
    "BaggingClassifierCat33Model=BaggingClassifier(n_jobs=-1)\n",
    "GradientBoostingClassifierCat33Model=GradientBoostingClassifier()\n",
    "\n",
    "ML_models = [\n",
    "        ExtraTreesClassifierCat2Model,AdaBoostClassifierCat2Model,\n",
    "]\n",
    "\n",
    "ML_names = [\n",
    "        \"ExtraTreesClassifierCat2Model\",\"AdaBoostClassifierCat2Model\",\n",
    "]\n",
    "\n",
    "\n",
    "for train_set in tqdm(CICIoT2023_training_sets):\n",
    "    #Load File after File\n",
    "    CICIoT2023df = pd.read_csv(DATASET_FOLDER + train_set)\n",
    "    \n",
    "    #Data cleanup\n",
    "    #drop Rate column 'Rate' 'Srate' are same in the dataset. so dropping 'Rate'\n",
    "    CICIoT2023df.drop(columns=['Rate'])\n",
    "\n",
    "    #Removal of null values\n",
    "    CICIoT2023df=CICIoT2023df.dropna()\n",
    "\n",
    "    #Data scaling standard scalar\n",
    "    CICIoT2023df[X_columns] = scaler.transform(CICIoT2023df[X_columns])\n",
    "\n",
    "    #Column renaming to 2Category Attack or Benign(normal traffic)\n",
    "    #new_y = [dict_2category[k] for k in CICIoT2023df[y_column]]\n",
    "    #CICIoT2023df[y_column] = new_y\n",
    "    \n",
    "    for model in (ML_models):\n",
    "        model.fit(CICIoT2023df[X_columns], CICIoT2023df[y_column])\n",
    "    del CICIoT2023df\n",
    "\n",
    "for model in (ML_models):\n",
    "     #To save the model\n",
    "     filename = f\"{type(model).__name__}Cat33Model.sav\"  # Using the model's class name as filename\n",
    "     #print(filename)\n",
    "     with open(filename, 'wb') as file:\n",
    "         pickle.dump(model, file)"
   ]
  },
  {
   "cell_type": "code",
   "execution_count": 17,
   "id": "6116132e-02f0-4bac-aefb-2ba0bee924ab",
   "metadata": {},
   "outputs": [
    {
     "name": "stderr",
     "output_type": "stream",
     "text": [
      "100%|██████████| 34/34 [15:56<00:00, 28.15s/it]\n"
     ]
    }
   ],
   "source": [
    "y_test = []\n",
    "preds = {i:[] for i in range(len(ML_models))}\n",
    "for test_set in tqdm(CICIoT2023_test_sets):\n",
    "    #Load File after File\n",
    "    CICIoT2023df_test = pd.read_csv(DATASET_FOLDER + test_set)\n",
    "    #Data cleanup\n",
    "    #drop Rate column 'Rate' 'Srate' are same in the dataset. so dropping 'Rate'\n",
    "    CICIoT2023df_test.drop(columns=['Rate'])\n",
    "\n",
    "    #Removal of null values\n",
    "    CICIoT2023df_test=CICIoT2023df_test.dropna()\n",
    "\n",
    "    #Data scaling standard scalar\n",
    "    CICIoT2023df_test[X_columns] = scaler.transform(CICIoT2023df_test[X_columns])\n",
    "\n",
    "    #Column renaming to 34Category Attack or Benign(normal traffic)    \n",
    "    #new_y = [dict_7category[k] for k in CICIoT2023df_test[y_column]]\n",
    "    #CICIoT2023df_test[y_column] = new_y\n",
    "    \n",
    "    y_test += list(CICIoT2023df_test[y_column].values)\n",
    "    \n",
    "    for i in range(len(ML_models)):\n",
    "        model = ML_models[i]\n",
    "        y_pred = list(model.predict(CICIoT2023df_test[X_columns]))\n",
    "        preds[i] = preds[i] + y_pred\n",
    "        "
   ]
  },
  {
   "cell_type": "code",
   "execution_count": 18,
   "id": "375dcbfb-2b20-4b37-8fbb-c9d68a6ac541",
   "metadata": {},
   "outputs": [
    {
     "name": "stdout",
     "output_type": "stream",
     "text": [
      "##### ExtraTreesClassifierCat2Model (34 classes) #####\n",
      "accuracy_score:  0.9885468901306276\n",
      "recall_score:  0.7903352304869999\n",
      "precision_score:  0.6991520545734576\n",
      "f1_score:  0.7145807195081564\n",
      "\n",
      "\n",
      "\n",
      "##### AdaBoostClassifierCat2Model (34 classes) #####\n",
      "accuracy_score:  0.9159431850239083\n",
      "recall_score:  0.5821954911886522\n",
      "precision_score:  0.5200061971971253\n",
      "f1_score:  0.4932532482053136\n",
      "\n",
      "\n",
      "\n"
     ]
    }
   ],
   "source": [
    "#from sklearn.metrics import accuracy_score, recall_score, precision_score, f1_score, confusion_matrix, ConfusionMatrixDisplay\n",
    "for k,v in preds.items():\n",
    "    y_pred = v\n",
    "    print(f\"##### {ML_names[k]} (34 classes) #####\")\n",
    "    print('accuracy_score: ', accuracy_score(y_pred, y_test))\n",
    "    print('recall_score: ', recall_score(y_pred, y_test, average='macro'))\n",
    "    print('precision_score: ', precision_score(y_pred, y_test, average='macro'))\n",
    "    print('f1_score: ', f1_score(y_pred, y_test, average='macro'))\n",
    "    print()\n",
    "    #print(pd.crosstab(y_test, y_pred, rownames=['Actual'], colnames=['Predicted'], margins=True,dropna=False))\n",
    "    print()\n",
    "    print()"
   ]
  }
 ],
 "metadata": {
  "kernelspec": {
   "display_name": "Python 3 (ipykernel)",
   "language": "python",
   "name": "python3"
  },
  "language_info": {
   "codemirror_mode": {
    "name": "ipython",
    "version": 3
   },
   "file_extension": ".py",
   "mimetype": "text/x-python",
   "name": "python",
   "nbconvert_exporter": "python",
   "pygments_lexer": "ipython3",
   "version": "3.10.4"
  }
 },
 "nbformat": 4,
 "nbformat_minor": 5
}
